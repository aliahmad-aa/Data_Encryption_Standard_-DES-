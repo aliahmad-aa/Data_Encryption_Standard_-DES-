{
  "nbformat": 4,
  "nbformat_minor": 0,
  "metadata": {
    "colab": {
      "provenance": []
    },
    "kernelspec": {
      "name": "python3",
      "display_name": "Python 3"
    },
    "language_info": {
      "name": "python"
    }
  },
  "cells": [
    {
      "cell_type": "code",
      "execution_count": null,
      "metadata": {
        "id": "zrWdywR80YfZ"
      },
      "outputs": [],
      "source": [
        "import numpy as np\n",
        "\n",
        "def input_handling(input_string):\n",
        "  binary_form = []\n",
        "  for char in input_string:\n",
        "    binary_value = format(ord(char), '08b')\n",
        "    for bit in binary_value:\n",
        "      binary_form.append(int(bit))\n",
        "\n",
        "  binary_array = np.array(binary_form).reshape(-1, 8)\n",
        "  return(binary_array)"
      ]
    },
    {
      "cell_type": "code",
      "source": [
        "def initial_permutation(binary_array):\n",
        "  new_array = np.zeros((8, 8), dtype='int')\n",
        "  flattened_array = binary_array.flatten()\n",
        "  permutation_format = np.array([[58, 50, 42, 34, 26, 18, 10, 2],\n",
        "                                 [60, 52, 44, 36, 28, 20, 12, 4],\n",
        "                                 [62, 54, 46, 38, 30, 22, 14, 6],\n",
        "                                 [64, 56, 48, 40, 32, 24, 16, 8],\n",
        "                                 [57, 49, 41, 33, 25, 17, 9, 1],\n",
        "                                 [59, 51, 43, 35, 27, 19, 11, 3],\n",
        "                                 [61, 53, 45, 37, 29, 21, 13, 5],\n",
        "                                 [63, 55, 47, 39, 31, 23, 15, 7]]) - 1\n",
        "\n",
        "  for i in range(8):\n",
        "    for j in range(8):\n",
        "      new_array[i, j] = flattened_array[permutation_format[i, j]]\n",
        "  return new_array"
      ],
      "metadata": {
        "id": "aTVBz8S7Cn8D"
      },
      "execution_count": null,
      "outputs": []
    },
    {
      "cell_type": "code",
      "source": [
        "def swap(array):\n",
        "  swapped_array = np.zeros((8, 8), dtype='int')\n",
        "  swapped_array[:4, :] = array[4:, :]\n",
        "  swapped_array[4:, :] = array[:4, :]\n",
        "  return swapped_array"
      ],
      "metadata": {
        "id": "3HpvcO7iKivb"
      },
      "execution_count": null,
      "outputs": []
    },
    {
      "cell_type": "code",
      "source": [
        "def final_permutation(binary_array):\n",
        "  new_array = np.zeros((8, 8), dtype='int')\n",
        "  flattened_array = binary_array.flatten()\n",
        "  permutation_format = np.array([[40, 8, 48, 16, 56, 24, 64, 32],\n",
        "                               [39, 7, 47, 15, 55, 23, 63, 31],\n",
        "                               [38, 6, 46, 14, 54, 22, 62, 30],\n",
        "                               [37, 5, 45, 13, 53, 21, 61, 29],\n",
        "                               [36, 4, 44, 12, 52, 20, 60, 28],\n",
        "                               [35, 3, 43, 11, 51, 19, 59, 27],\n",
        "                               [34, 2, 42, 10, 50, 18, 58, 26],\n",
        "                               [33, 1, 41, 9, 49, 17, 57, 25]]) - 1\n",
        "\n",
        "  for i in range(8):\n",
        "    for j in range(8):\n",
        "      new_array[i, j] = flattened_array[permutation_format[i, j]]\n",
        "  return new_array"
      ],
      "metadata": {
        "id": "drx7Y9wyPHTc"
      },
      "execution_count": null,
      "outputs": []
    },
    {
      "cell_type": "code",
      "source": [
        "binary_array = input_handling('PAKISTAN')\n",
        "print(binary_array)"
      ],
      "metadata": {
        "id": "AcM51wuYE4gf",
        "colab": {
          "base_uri": "https://localhost:8080/"
        },
        "outputId": "25253abb-97ec-4665-b361-fd98ec4550d1"
      },
      "execution_count": null,
      "outputs": [
        {
          "output_type": "stream",
          "name": "stdout",
          "text": [
            "[[0 1 0 1 0 0 0 0]\n",
            " [0 1 0 0 0 0 0 1]\n",
            " [0 1 0 0 1 0 1 1]\n",
            " [0 1 0 0 1 0 0 1]\n",
            " [0 1 0 1 0 0 1 1]\n",
            " [0 1 0 1 0 1 0 0]\n",
            " [0 1 0 0 0 0 0 1]\n",
            " [0 1 0 0 1 1 1 0]]\n"
          ]
        }
      ]
    },
    {
      "cell_type": "code",
      "source": [
        "new_array = initial_permutation(binary_array)\n",
        "print(new_array)"
      ],
      "metadata": {
        "colab": {
          "base_uri": "https://localhost:8080/"
        },
        "id": "7C4YA9TIGpis",
        "outputId": "86dc5738-bf6c-4cf5-d324-99c37853a9c0"
      },
      "execution_count": null,
      "outputs": [
        {
          "output_type": "stream",
          "name": "stdout",
          "text": [
            "[[1 1 1 1 1 1 1 1]\n",
            " [0 0 1 1 0 0 0 1]\n",
            " [1 0 1 0 0 0 0 0]\n",
            " [0 1 0 1 1 1 1 0]\n",
            " [0 0 0 0 0 0 0 0]\n",
            " [0 0 0 0 0 0 0 0]\n",
            " [1 0 0 0 1 1 0 0]\n",
            " [1 0 0 1 0 1 0 0]]\n"
          ]
        }
      ]
    },
    {
      "cell_type": "code",
      "source": [
        "swapped_array = swap(new_array)\n",
        "print(swapped_array)"
      ],
      "metadata": {
        "colab": {
          "base_uri": "https://localhost:8080/"
        },
        "id": "-PUixb2vLh3e",
        "outputId": "1a29c1d0-a4b7-4f1a-d12f-c100ab78fa61"
      },
      "execution_count": null,
      "outputs": [
        {
          "output_type": "stream",
          "name": "stdout",
          "text": [
            "[[0 0 0 0 0 0 0 0]\n",
            " [0 0 0 0 0 0 0 0]\n",
            " [1 0 0 0 1 1 0 0]\n",
            " [1 0 0 1 0 1 0 0]\n",
            " [1 1 1 1 1 1 1 1]\n",
            " [0 0 1 1 0 0 0 1]\n",
            " [1 0 1 0 0 0 0 0]\n",
            " [0 1 0 1 1 1 1 0]]\n"
          ]
        }
      ]
    },
    {
      "cell_type": "code",
      "source": [
        "final_array = final_permutation(swapped_array)\n",
        "print(final_array)"
      ],
      "metadata": {
        "colab": {
          "base_uri": "https://localhost:8080/"
        },
        "id": "C6Qoc18mN35f",
        "outputId": "fe0613ba-9a0d-49e2-ed01-413d3c6cc959"
      },
      "execution_count": null,
      "outputs": [
        {
          "output_type": "stream",
          "name": "stdout",
          "text": [
            "[[1 0 1 0 0 0 0 0]\n",
            " [1 0 0 0 0 0 1 0]\n",
            " [1 0 0 0 0 1 1 1]\n",
            " [1 0 0 0 0 1 1 0]\n",
            " [1 0 1 0 0 0 1 1]\n",
            " [1 0 1 0 1 0 0 0]\n",
            " [1 0 0 0 0 0 1 0]\n",
            " [1 0 0 0 1 1 0 1]]\n"
          ]
        }
      ]
    },
    {
      "cell_type": "code",
      "source": [
        "def des_decrypt(final_array):\n",
        "  array1 = initial_permutation(final_array)\n",
        "  array2 = swap(array1)\n",
        "  array3 = final_permutation(array2)\n",
        "  text = ''\n",
        "  for row in array3:\n",
        "      binary_string = ''.join(map(str, row))\n",
        "      ascii_value = int(binary_string, 2)\n",
        "      character = chr(ascii_value)\n",
        "      text += character\n",
        "  print(text)"
      ],
      "metadata": {
        "id": "VRvzY1J3QC_f"
      },
      "execution_count": null,
      "outputs": []
    },
    {
      "cell_type": "code",
      "source": [
        "des_decrypt(final_array)"
      ],
      "metadata": {
        "colab": {
          "base_uri": "https://localhost:8080/"
        },
        "id": "w6QMYdS0DVke",
        "outputId": "80a0b7de-6e95-4b5f-f5e1-fa9092f3bbda"
      },
      "execution_count": null,
      "outputs": [
        {
          "output_type": "stream",
          "name": "stdout",
          "text": [
            "PAKISTAN\n"
          ]
        }
      ]
    }
  ]
}